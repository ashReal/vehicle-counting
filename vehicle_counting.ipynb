{
  "nbformat": 4,
  "nbformat_minor": 0,
  "metadata": {
    "colab": {
      "name": "vehicle counting",
      "provenance": [],
      "collapsed_sections": []
    },
    "kernelspec": {
      "display_name": "Python 3",
      "name": "python3"
    },
    "language_info": {
      "name": "python"
    },
    "accelerator": "GPU"
  },
  "cells": [
    {
      "cell_type": "code",
      "metadata": {
        "colab": {
          "base_uri": "https://localhost:8080/"
        },
        "id": "PiGFOp70ZV84",
        "outputId": "48d97fcd-26f3-49ff-80fd-3fa103c89d02"
      },
      "source": [
        "!wget 'https://s3-us-west-2.amazonaws.com/static.pyimagesearch.com/opencv-yolo/yolo-object-detection.zip'"
      ],
      "execution_count": 8,
      "outputs": [
        {
          "output_type": "stream",
          "text": [
            "--2021-04-03 15:10:36--  https://s3-us-west-2.amazonaws.com/static.pyimagesearch.com/opencv-yolo/yolo-object-detection.zip\n",
            "Resolving s3-us-west-2.amazonaws.com (s3-us-west-2.amazonaws.com)... 52.218.218.112\n",
            "Connecting to s3-us-west-2.amazonaws.com (s3-us-west-2.amazonaws.com)|52.218.218.112|:443... connected.\n",
            "HTTP request sent, awaiting response... 200 OK\n",
            "Length: 308184552 (294M) [application/zip]\n",
            "Saving to: ‘yolo-object-detection.zip’\n",
            "\n",
            "yolo-object-detecti 100%[===================>] 293.91M  36.6MB/s    in 8.6s    \n",
            "\n",
            "2021-04-03 15:10:45 (34.0 MB/s) - ‘yolo-object-detection.zip’ saved [308184552/308184552]\n",
            "\n"
          ],
          "name": "stdout"
        }
      ]
    },
    {
      "cell_type": "code",
      "metadata": {
        "colab": {
          "base_uri": "https://localhost:8080/"
        },
        "id": "1-0usb3KjjLw",
        "outputId": "43a2dca3-0d7f-4657-c36b-cb9748dd8e5d"
      },
      "source": [
        "!unzip '/content/yolo-object-detection.zip'"
      ],
      "execution_count": 9,
      "outputs": [
        {
          "output_type": "stream",
          "text": [
            "Archive:  /content/yolo-object-detection.zip\n",
            "   creating: yolo-object-detection/\n",
            "   creating: yolo-object-detection/images/\n",
            "  inflating: yolo-object-detection/images/baggage_claim.jpg  \n",
            " extracting: yolo-object-detection/images/dining_table.jpg  \n",
            "  inflating: yolo-object-detection/images/living_room.jpg  \n",
            "  inflating: yolo-object-detection/images/soccer.jpg  \n",
            "   creating: yolo-object-detection/output/\n",
            "   creating: yolo-object-detection/videos/\n",
            "  inflating: yolo-object-detection/videos/airport.mp4  \n",
            "  inflating: yolo-object-detection/videos/car_chase_01.mp4  \n",
            "  inflating: yolo-object-detection/videos/car_chase_02.mp4  \n",
            "  inflating: yolo-object-detection/videos/overpass.mp4  \n",
            "   creating: yolo-object-detection/yolo-coco/\n",
            "  inflating: yolo-object-detection/yolo-coco/coco.names  \n",
            "  inflating: yolo-object-detection/yolo-coco/yolov3.cfg  \n",
            "  inflating: yolo-object-detection/yolo-coco/yolov3.weights  \n",
            "  inflating: yolo-object-detection/yolo.py  \n",
            "  inflating: yolo-object-detection/yolo_video.py  \n"
          ],
          "name": "stdout"
        }
      ]
    },
    {
      "cell_type": "code",
      "metadata": {
        "id": "EjDdjDszAVSZ"
      },
      "source": [
        ""
      ],
      "execution_count": null,
      "outputs": []
    },
    {
      "cell_type": "markdown",
      "metadata": {
        "id": "9UYbayxuQu7l"
      },
      "source": [
        ""
      ]
    },
    {
      "cell_type": "code",
      "metadata": {
        "id": "V_SOR-9LxJ72"
      },
      "source": [
        ""
      ],
      "execution_count": null,
      "outputs": []
    },
    {
      "cell_type": "code",
      "metadata": {
        "id": "0CcFQQIXuy6C"
      },
      "source": [
        ""
      ],
      "execution_count": null,
      "outputs": []
    },
    {
      "cell_type": "code",
      "metadata": {
        "id": "4I6fRz0z1ANh"
      },
      "source": [
        ""
      ],
      "execution_count": null,
      "outputs": []
    },
    {
      "cell_type": "code",
      "metadata": {
        "colab": {
          "base_uri": "https://localhost:8080/"
        },
        "id": "n4VatIGgCNhQ",
        "outputId": "38f40f5b-c933-41c0-f9f9-519a429666cd"
      },
      "source": [
        "!git clone https://github.com/HodenX/python-traffic-counter-with-yolo-and-sort.git"
      ],
      "execution_count": 3,
      "outputs": [
        {
          "output_type": "stream",
          "text": [
            "Cloning into 'python-traffic-counter-with-yolo-and-sort'...\n",
            "remote: Enumerating objects: 14, done.\u001b[K\n",
            "remote: Total 14 (delta 0), reused 0 (delta 0), pack-reused 14\u001b[K\n",
            "Unpacking objects: 100% (14/14), done.\n"
          ],
          "name": "stdout"
        }
      ]
    },
    {
      "cell_type": "code",
      "metadata": {
        "colab": {
          "base_uri": "https://localhost:8080/",
          "height": 35
        },
        "id": "UXswMOttCODN",
        "outputId": "a598ea2b-af96-41ff-d0a9-180fb7c0e578"
      },
      "source": [
        "import shutil \n",
        "shutil.move(\"/content/python-traffic-counter-with-yolo-and-sort/sort.py\", \"/content\") \n"
      ],
      "execution_count": 4,
      "outputs": [
        {
          "output_type": "execute_result",
          "data": {
            "application/vnd.google.colaboratory.intrinsic+json": {
              "type": "string"
            },
            "text/plain": [
              "'/content/sort.py'"
            ]
          },
          "metadata": {
            "tags": []
          },
          "execution_count": 4
        }
      ]
    },
    {
      "cell_type": "code",
      "metadata": {
        "colab": {
          "base_uri": "https://localhost:8080/"
        },
        "id": "RrTBKRfxiG8z",
        "outputId": "cbdc3f65-78ae-4361-9129-07e6cb7c4ff2"
      },
      "source": [
        "!pip install filterpy==1.1.0"
      ],
      "execution_count": 5,
      "outputs": [
        {
          "output_type": "stream",
          "text": [
            "Collecting filterpy==1.1.0\n",
            "\u001b[?25l  Downloading https://files.pythonhosted.org/packages/97/e0/a7870fa17350c296ada15e22cbb97c72e232c63d5312fed6f55fc5a36c04/filterpy-1.1.0.tar.gz (63kB)\n",
            "\r\u001b[K     |█████▏                          | 10kB 25.3MB/s eta 0:00:01\r\u001b[K     |██████████▍                     | 20kB 31.5MB/s eta 0:00:01\r\u001b[K     |███████████████▋                | 30kB 22.6MB/s eta 0:00:01\r\u001b[K     |████████████████████▉           | 40kB 25.7MB/s eta 0:00:01\r\u001b[K     |██████████████████████████      | 51kB 25.0MB/s eta 0:00:01\r\u001b[K     |███████████████████████████████▏| 61kB 27.7MB/s eta 0:00:01\r\u001b[K     |████████████████████████████████| 71kB 7.9MB/s \n",
            "\u001b[?25hRequirement already satisfied: numpy in /usr/local/lib/python3.7/dist-packages (from filterpy==1.1.0) (1.19.5)\n",
            "Requirement already satisfied: scipy in /usr/local/lib/python3.7/dist-packages (from filterpy==1.1.0) (1.4.1)\n",
            "Requirement already satisfied: matplotlib in /usr/local/lib/python3.7/dist-packages (from filterpy==1.1.0) (3.2.2)\n",
            "Requirement already satisfied: kiwisolver>=1.0.1 in /usr/local/lib/python3.7/dist-packages (from matplotlib->filterpy==1.1.0) (1.3.1)\n",
            "Requirement already satisfied: python-dateutil>=2.1 in /usr/local/lib/python3.7/dist-packages (from matplotlib->filterpy==1.1.0) (2.8.1)\n",
            "Requirement already satisfied: cycler>=0.10 in /usr/local/lib/python3.7/dist-packages (from matplotlib->filterpy==1.1.0) (0.10.0)\n",
            "Requirement already satisfied: pyparsing!=2.0.4,!=2.1.2,!=2.1.6,>=2.0.1 in /usr/local/lib/python3.7/dist-packages (from matplotlib->filterpy==1.1.0) (2.4.7)\n",
            "Requirement already satisfied: six>=1.5 in /usr/local/lib/python3.7/dist-packages (from python-dateutil>=2.1->matplotlib->filterpy==1.1.0) (1.15.0)\n",
            "Building wheels for collected packages: filterpy\n",
            "  Building wheel for filterpy (setup.py) ... \u001b[?25l\u001b[?25hdone\n",
            "  Created wheel for filterpy: filename=filterpy-1.1.0-cp37-none-any.whl size=85417 sha256=db4d01d891a785a7c816a0d00181e0017ec7873dd1b32470862680df0659db31\n",
            "  Stored in directory: /root/.cache/pip/wheels/ea/18/ee/d5ca9a957716ea3aee5acd3b5ba8ad733d5f5c1586ef3ac5b2\n",
            "Successfully built filterpy\n",
            "Installing collected packages: filterpy\n",
            "Successfully installed filterpy-1.1.0\n"
          ],
          "name": "stdout"
        }
      ]
    },
    {
      "cell_type": "code",
      "metadata": {
        "colab": {
          "base_uri": "https://localhost:8080/"
        },
        "id": "_Z_Bo2bBiIwK",
        "outputId": "1c241107-fffa-4893-a90e-53007e6e8eca"
      },
      "source": [
        "import numpy as np\n",
        "import argparse\n",
        "import imutils\n",
        "import time\n",
        "\n",
        "import cv2\n",
        "import os\n",
        "import glob\n",
        "from google.colab.patches import cv2_imshow\n",
        "\n",
        "from sort import *"
      ],
      "execution_count": 6,
      "outputs": [
        {
          "output_type": "stream",
          "text": [
            "/usr/local/lib/python3.7/dist-packages/sklearn/utils/linear_assignment_.py:22: FutureWarning: The linear_assignment_ module is deprecated in 0.21 and will be removed from 0.23. Use scipy.optimize.linear_sum_assignment instead.\n",
            "  FutureWarning)\n"
          ],
          "name": "stderr"
        }
      ]
    },
    {
      "cell_type": "code",
      "metadata": {
        "colab": {
          "base_uri": "https://localhost:8080/"
        },
        "id": "WjYqEDt7COs9",
        "outputId": "c11de4d6-1d8a-4bd4-e485-d0fdd832c2c0"
      },
      "source": [
        "\n",
        "tracker = Sort()\n",
        "memory = {}\n",
        "line = [(250, 950), (1850, 800)]\n",
        "counter = 0\n",
        "\n",
        "\n",
        "\n",
        "# Return true if line segments AB and CD intersect\n",
        "def intersect(A,B,C,D):\n",
        "\treturn ccw(A,C,D) != ccw(B,C,D) and ccw(A,B,C) != ccw(A,B,D)\n",
        "\n",
        "def ccw(A,B,C):\n",
        "\treturn (C[1]-A[1]) * (B[0]-A[0]) > (B[1]-A[1]) * (C[0]-A[0])\n",
        "\n",
        "# load the COCO class labels our YOLO model was trained on\n",
        "weightsPath = '/content/yolo-object-detection/yolo-coco/yolov3.weights'\n",
        "configPath = '/content/yolo-object-detection/yolo-coco/yolov3.cfg'\n",
        "labelsPath = '/content/yolo-object-detection/yolo-coco/coco.names'\n",
        "LABELS = open(labelsPath).read().strip().split(\"\\n\")\n",
        "\n",
        "# initialize a list of colors to represent each possible class label\n",
        "np.random.seed(42)\n",
        "COLORS = np.random.randint(0, 255, size=(200, 3),\n",
        "\tdtype=\"uint8\")\n",
        "\n",
        "# derive the paths to the YOLO weights and model configuration\n",
        "\n",
        "\n",
        "# load our YOLO object detector trained on COCO dataset (80 classes)\n",
        "# and determine only the *output* layer names that we need from YOLO\n",
        "print(\"[INFO] loading YOLO from disk...\")\n",
        "net = cv2.dnn.readNetFromDarknet(configPath, weightsPath)\n",
        "ln = net.getLayerNames()\n",
        "ln = [ln[i[0] - 1] for i in net.getUnconnectedOutLayers()]\n",
        "\n",
        "# initialize the video stream, pointer to output video file, and\n",
        "# frame dimensions\n",
        "vs = cv2.VideoCapture(\"/content/drive/MyDrive/object tracking traffic videos/1615363610851.mp4\")\n",
        "writer = None\n",
        "(W, H) = (None, None)\n",
        "\n",
        "frameIndex = 0\n",
        "\n",
        "# try to determine the total number of frames in the video file\n",
        "try:\n",
        "\tprop = cv2.cv.CV_CAP_PROP_FRAME_COUNT if imutils.is_cv2() \\\n",
        "\t\telse cv2.CAP_PROP_FRAME_COUNT\n",
        "\ttotal = int(vs.get(prop))\n",
        "\tprint(\"[INFO] {} total frames in video\".format(total))\n",
        "\n",
        "# an error occurred while trying to determine the total\n",
        "# number of frames in the video file\n",
        "except:\n",
        "\tprint(\"[INFO] could not determine # of frames in video\")\n",
        "\tprint(\"[INFO] no approx. completion time can be provided\")\n",
        "\ttotal = -1\n",
        "\n",
        "# loop over frames from the video file stream\n",
        "while True:\n",
        "\t# read the next frame from the file\n",
        "\t(grabbed, frame) = vs.read()\n",
        "\n",
        "\t# if the frame was not grabbed, then we have reached the end\n",
        "\t# of the stream\n",
        "\tif not grabbed:\n",
        "\t\tbreak\n",
        "\n",
        "\t# if the frame dimensions are empty, grab them\n",
        "\tif W is None or H is None:\n",
        "\t\t(H, W) = frame.shape[:2]\n",
        "\n",
        "\t# construct a blob from the input frame and then perform a forward\n",
        "\t# pass of the YOLO object detector, giving us our bounding boxes\n",
        "\t# and associated probabilities\n",
        "\tblob = cv2.dnn.blobFromImage(frame, 1 / 255.0, (218, 218),\n",
        "\t\tswapRB=True, crop=False)\n",
        "\tnet.setInput(blob)\n",
        "\tstart = time.time()\n",
        "\tlayerOutputs = net.forward(ln)\n",
        "\tend = time.time()\n",
        "\n",
        "\t# initialize our lists of detected bounding boxes, confidences,\n",
        "\t# and class IDs, respectively\n",
        "\tboxes = []\n",
        "\tconfidences = []\n",
        "\tclassIDs = []\n",
        "\n",
        "\t# loop over each of the layer outputs\n",
        "\tfor output in layerOutputs:\n",
        "\t\t# loop over each of the detections\n",
        "\t\tfor detection in output:\n",
        "\t\t\t# extract the class ID and confidence (i.e., probability)\n",
        "\t\t\t# of the current object detection\n",
        "\t\t\tscores = detection[5:]\n",
        "\t\t\tclassID = np.argmax(scores)\n",
        "\t\t\tconfidence = scores[classID]\n",
        "\n",
        "\t\t\t# filter out weak predictions by ensuring the detected\n",
        "\t\t\t# probability is greater than the minimum probability\n",
        "\t\t\tif confidence > 0.5:\n",
        "\t\t\t\t# scale the bounding box coordinates back relative to\n",
        "\t\t\t\t# the size of the image, keeping in mind that YOLO\n",
        "\t\t\t\t# actually returns the center (x, y)-coordinates of\n",
        "\t\t\t\t# the bounding box followed by the boxes' width and\n",
        "\t\t\t\t# height\n",
        "\t\t\t\tbox = detection[0:4] * np.array([W, H, W, H])\n",
        "\t\t\t\t(centerX, centerY, width, height) = box.astype(\"int\")\n",
        "\n",
        "\t\t\t\t# use the center (x, y)-coordinates to derive the top\n",
        "\t\t\t\t# and and left corner of the bounding box\n",
        "\t\t\t\tx = int(centerX - (width / 2))\n",
        "\t\t\t\ty = int(centerY - (height / 2))\n",
        "\n",
        "\t\t\t\t# update our list of bounding box coordinates,\n",
        "\t\t\t\t# confidences, and class IDs\n",
        "\t\t\t\tboxes.append([x, y, int(width), int(height)])\n",
        "\t\t\t\tconfidences.append(float(confidence))\n",
        "\t\t\t\tclassIDs.append(classID)\n",
        "\n",
        "\t# apply non-maxima suppression to suppress weak, overlapping\n",
        "\t# bounding boxes\n",
        "\tidxs = cv2.dnn.NMSBoxes(boxes, confidences, 0.5, 0.3)\n",
        "\t\n",
        "\tdets = []\n",
        "\tif len(idxs) > 0:\n",
        "\t\t# loop over the indexes we are keeping\n",
        "\t\tfor i in idxs.flatten():\n",
        "\t\t\t(x, y) = (boxes[i][0], boxes[i][1])\n",
        "\t\t\t(w, h) = (boxes[i][2], boxes[i][3])\n",
        "\t\t\tdets.append([x, y, x+w, y+h, confidences[i]])\n",
        "\n",
        "\tnp.set_printoptions(formatter={'float': lambda x: \"{0:0.3f}\".format(x)})\n",
        "\tdets = np.asarray(dets)\n",
        "\ttracks = tracker.update(dets)\n",
        "\n",
        "\tboxes = []\n",
        "\tindexIDs = []\n",
        "\tc = []\n",
        "\tprevious = memory.copy()\n",
        "\tmemory = {}\n",
        "\n",
        "\tfor track in tracks:\n",
        "\t\tboxes.append([track[0], track[1], track[2], track[3]])\n",
        "\t\tindexIDs.append(int(track[4]))\n",
        "\t\tmemory[indexIDs[-1]] = boxes[-1]\n",
        "\n",
        "\tif len(boxes) > 0:\n",
        "\t\ti = int(0)\n",
        "\t\tfor box in boxes:\n",
        "\t\t\t# extract the bounding box coordinates\n",
        "\t\t\t(x, y) = (int(box[0]), int(box[1]))\n",
        "\t\t\t(w, h) = (int(box[2]), int(box[3]))\n",
        "\n",
        "\t\t\t# draw a bounding box rectangle and label on the image\n",
        "\t\t\t# color = [int(c) for c in COLORS[classIDs[i]]]\n",
        "\t\t\t# cv2.rectangle(frame, (x, y), (x + w, y + h), color, 2)\n",
        "\n",
        "\t\t\tcolor = [int(c) for c in COLORS[indexIDs[i] % len(COLORS)]]\n",
        "\t\t\tcv2.rectangle(frame, (x, y), (w, h), color, 2)\n",
        "\n",
        "\t\t\tif indexIDs[i] in previous:\n",
        "\t\t\t\tprevious_box = previous[indexIDs[i]]\n",
        "\t\t\t\t(x2, y2) = (int(previous_box[0]), int(previous_box[1]))\n",
        "\t\t\t\t(w2, h2) = (int(previous_box[2]), int(previous_box[3]))\n",
        "\t\t\t\tp0 = (int(x + (w-x)/2), int(y + (h-y)/2))\n",
        "\t\t\t\tp1 = (int(x2 + (w2-x2)/2), int(y2 + (h2-y2)/2))\n",
        "\t\t\t\tcv2.line(frame, p0, p1, color, 3)\n",
        "\n",
        "\t\t\t\tif intersect(p0, p1, line[0], line[1]):\n",
        "\t\t\t\t\tcounter += 1\n",
        "\n",
        "\t\t\t# text = \"{}: {:.4f}\".format(LABELS[classIDs[i]], confidences[i])\n",
        "\t\t\ttext = \"{}\".format(indexIDs[i])\n",
        "\t\t\tcv2.putText(frame, text, (x, y - 5), cv2.FONT_HERSHEY_SIMPLEX, 0.5, color, 2)\n",
        "\t\t\ti += 1\n",
        "\n",
        "\t# draw line\n",
        "\tcv2.line(frame, line[0], line[1], (0, 255, 255), 5)\n",
        "\n",
        "\t# draw counter\n",
        "\tcv2.putText(frame, str(counter), (100,200), cv2.FONT_HERSHEY_DUPLEX, 5.0, (0, 255, 255), 10)\n",
        "\t# counter += 1\n",
        "\n",
        "\t# saves image file\n",
        "\tcv2.imwrite(\"outputsss/frame-{}.png\".format(frameIndex), frame)\n",
        "\n",
        "\t# check if the video writer is None\n",
        "\tif writer is None:\n",
        "\t\t# initialize our video writer\n",
        "\t\tfourcc = cv2.VideoWriter_fourcc(*\"MJPG\")\n",
        "\t\twriter = cv2.VideoWriter(\"outs100.avi\", fourcc, 30,\n",
        "\t\t\t(frame.shape[1], frame.shape[0]), True)\n",
        "\n",
        "\t\t# some information on processing single frame\n",
        "\t\tif total > 0:\n",
        "\t\t\telap = (end - start)\n",
        "\t\t\tprint(\"[INFO] single frame took {:.4f} seconds\".format(elap))\n",
        "\t\t\tprint(\"[INFO] estimated total time to finish: {:.4f}\".format(\n",
        "\t\t\t\telap * total))\n",
        "\n",
        "\t# write the output frame to disk\n",
        "\twriter.write(frame)\n",
        "\n",
        "\t# increase frame index\n",
        "\tframeIndex += 1\n",
        "\n",
        "\tif frameIndex >= 100:\n",
        "\t\tprint(\"[INFO] cleaning up...\")\n",
        "\t\twriter.release()\n",
        "\t\tvs.release()\n",
        "\t\texit()\n",
        "\n",
        "# release the file pointers\n",
        "print(\"[INFO] cleaning up...\")\n",
        "writer.release()\n",
        "vs.release()"
      ],
      "execution_count": 10,
      "outputs": [
        {
          "output_type": "stream",
          "text": [
            "[INFO] loading YOLO from disk...\n",
            "[INFO] 931 total frames in video\n",
            "[INFO] single frame took 1.0547 seconds\n",
            "[INFO] estimated total time to finish: 981.9083\n"
          ],
          "name": "stdout"
        },
        {
          "output_type": "stream",
          "text": [
            "/usr/local/lib/python3.7/dist-packages/sklearn/utils/linear_assignment_.py:128: FutureWarning: The linear_assignment function is deprecated in 0.21 and will be removed from 0.23. Use scipy.optimize.linear_sum_assignment instead.\n",
            "  FutureWarning)\n"
          ],
          "name": "stderr"
        },
        {
          "output_type": "stream",
          "text": [
            "[INFO] cleaning up...\n",
            "[INFO] cleaning up...\n"
          ],
          "name": "stdout"
        }
      ]
    },
    {
      "cell_type": "code",
      "metadata": {
        "id": "cOkE5xr0jhjm"
      },
      "source": [
        ""
      ],
      "execution_count": null,
      "outputs": []
    },
    {
      "cell_type": "code",
      "metadata": {
        "id": "1SOdrTTnEfBP"
      },
      "source": [
        ""
      ],
      "execution_count": null,
      "outputs": []
    },
    {
      "cell_type": "code",
      "metadata": {
        "id": "QBx5BFWyO3O-"
      },
      "source": [
        "\n"
      ],
      "execution_count": null,
      "outputs": []
    },
    {
      "cell_type": "code",
      "metadata": {
        "id": "R1FgkbXQfb9i",
        "colab": {
          "base_uri": "https://localhost:8080/"
        },
        "outputId": "a01f66a0-b315-4722-9ec4-9adbdda38d21"
      },
      "source": [
        ""
      ],
      "execution_count": 1,
      "outputs": [
        {
          "output_type": "stream",
          "text": [
            "Initialized empty Git repository in /content/.git/\n"
          ],
          "name": "stdout"
        }
      ]
    },
    {
      "cell_type": "code",
      "metadata": {
        "colab": {
          "base_uri": "https://localhost:8080/"
        },
        "id": "ZD1_vahWTOli",
        "outputId": "fdc965d0-f110-418f-8774-8f58920d8e3a"
      },
      "source": [
        ""
      ],
      "execution_count": 2,
      "outputs": [
        {
          "output_type": "stream",
          "text": [
            "usage: git config [<options>]\n",
            "\n",
            "Config file location\n",
            "    --global              use global config file\n",
            "    --system              use system config file\n",
            "    --local               use repository config file\n",
            "    -f, --file <file>     use given config file\n",
            "    --blob <blob-id>      read config from given blob object\n",
            "\n",
            "Action\n",
            "    --get                 get value: name [value-regex]\n",
            "    --get-all             get all values: key [value-regex]\n",
            "    --get-regexp          get values for regexp: name-regex [value-regex]\n",
            "    --get-urlmatch        get value specific for the URL: section[.var] URL\n",
            "    --replace-all         replace all matching variables: name value [value_regex]\n",
            "    --add                 add a new variable: name value\n",
            "    --unset               remove a variable: name [value-regex]\n",
            "    --unset-all           remove all matches: name [value-regex]\n",
            "    --rename-section      rename section: old-name new-name\n",
            "    --remove-section      remove a section: name\n",
            "    -l, --list            list all\n",
            "    -e, --edit            open an editor\n",
            "    --get-color           find the color configured: slot [default]\n",
            "    --get-colorbool       find the color setting: slot [stdout-is-tty]\n",
            "\n",
            "Type\n",
            "    --bool                value is \"true\" or \"false\"\n",
            "    --int                 value is decimal number\n",
            "    --bool-or-int         value is --bool or --int\n",
            "    --path                value is a path (file or directory name)\n",
            "    --expiry-date         value is an expiry date\n",
            "\n",
            "Other\n",
            "    -z, --null            terminate values with NUL byte\n",
            "    --name-only           show variable names only\n",
            "    --includes            respect include directives on lookup\n",
            "    --show-origin         show origin of config (file, standard input, blob, command line)\n",
            "\n"
          ],
          "name": "stdout"
        }
      ]
    },
    {
      "cell_type": "code",
      "metadata": {
        "colab": {
          "base_uri": "https://localhost:8080/"
        },
        "id": "cUqmQZzATWlw",
        "outputId": "eaa4a034-2369-4695-8411-3a06e378ff6d"
      },
      "source": [
        ""
      ],
      "execution_count": 3,
      "outputs": [
        {
          "output_type": "stream",
          "text": [
            "usage: git config [<options>]\n",
            "\n",
            "Config file location\n",
            "    --global              use global config file\n",
            "    --system              use system config file\n",
            "    --local               use repository config file\n",
            "    -f, --file <file>     use given config file\n",
            "    --blob <blob-id>      read config from given blob object\n",
            "\n",
            "Action\n",
            "    --get                 get value: name [value-regex]\n",
            "    --get-all             get all values: key [value-regex]\n",
            "    --get-regexp          get values for regexp: name-regex [value-regex]\n",
            "    --get-urlmatch        get value specific for the URL: section[.var] URL\n",
            "    --replace-all         replace all matching variables: name value [value_regex]\n",
            "    --add                 add a new variable: name value\n",
            "    --unset               remove a variable: name [value-regex]\n",
            "    --unset-all           remove all matches: name [value-regex]\n",
            "    --rename-section      rename section: old-name new-name\n",
            "    --remove-section      remove a section: name\n",
            "    -l, --list            list all\n",
            "    -e, --edit            open an editor\n",
            "    --get-color           find the color configured: slot [default]\n",
            "    --get-colorbool       find the color setting: slot [stdout-is-tty]\n",
            "\n",
            "Type\n",
            "    --bool                value is \"true\" or \"false\"\n",
            "    --int                 value is decimal number\n",
            "    --bool-or-int         value is --bool or --int\n",
            "    --path                value is a path (file or directory name)\n",
            "    --expiry-date         value is an expiry date\n",
            "\n",
            "Other\n",
            "    -z, --null            terminate values with NUL byte\n",
            "    --name-only           show variable names only\n",
            "    --includes            respect include directives on lookup\n",
            "    --show-origin         show origin of config (file, standard input, blob, command line)\n",
            "\n"
          ],
          "name": "stdout"
        }
      ]
    },
    {
      "cell_type": "code",
      "metadata": {
        "colab": {
          "base_uri": "https://localhost:8080/"
        },
        "id": "GRxYGKxGTzCb",
        "outputId": "985105ff-b2c3-4580-a6cf-280f1753b38e"
      },
      "source": [
        ""
      ],
      "execution_count": 4,
      "outputs": [
        {
          "output_type": "stream",
          "text": [
            "error: open(\"drive/MyDrive/1704060.gslides\"): Operation not supported\n",
            "error: unable to index file drive/MyDrive/1704060.gslides\n",
            "fatal: adding files failed\n"
          ],
          "name": "stdout"
        }
      ]
    },
    {
      "cell_type": "code",
      "metadata": {
        "id": "7HTrTuOcT4kE"
      },
      "source": [
        ""
      ],
      "execution_count": null,
      "outputs": []
    }
  ]
}